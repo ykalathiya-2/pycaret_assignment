{
 "cells": [
  {
   "cell_type": "markdown",
   "id": "b3d92793",
   "metadata": {},
   "source": [
    "# Customer Segmentation with PyCaret\n",
    "This notebook performs basic customer segmentation using PyCaret's low-code clustering tools on `segmentation data.csv`.\n",
    "\n",
    "Problem summary:\n",
    "- Use customer data (age, gender, annual income, spending score, etc.) to segment customers.\n",
    "- Provide a minimal workflow: load data, setup PyCaret clustering experiment, compare/create a clustering model, evaluate, save the model, and assign cluster labels.\n",
    "\n",
    "Steps:\n",
    "1. Load dataset (`segmentation data.csv`).\n",
    "2. Initialize `ClusteringExperiment` and `setup`.\n",
    "3. Use `compare_models()` to choose a clustering model (or create `kmeans`).\n",
    "4. Evaluate the model and assign cluster labels.\n",
    "5. Save the model for future use."
   ]
  },
  {
   "cell_type": "code",
   "execution_count": 1,
   "id": "bb676ee0",
   "metadata": {},
   "outputs": [],
   "source": [
    "# Imports\n",
    "import pandas as pd\n",
    "import numpy as np"
   ]
  },
  {
   "cell_type": "code",
   "execution_count": 2,
   "id": "4c712ed8",
   "metadata": {},
   "outputs": [
    {
     "data": {
      "text/html": [
       "<div>\n",
       "<style scoped>\n",
       "    .dataframe tbody tr th:only-of-type {\n",
       "        vertical-align: middle;\n",
       "    }\n",
       "\n",
       "    .dataframe tbody tr th {\n",
       "        vertical-align: top;\n",
       "    }\n",
       "\n",
       "    .dataframe thead th {\n",
       "        text-align: right;\n",
       "    }\n",
       "</style>\n",
       "<table border=\"1\" class=\"dataframe\">\n",
       "  <thead>\n",
       "    <tr style=\"text-align: right;\">\n",
       "      <th></th>\n",
       "      <th>ID</th>\n",
       "      <th>Sex</th>\n",
       "      <th>Marital status</th>\n",
       "      <th>Age</th>\n",
       "      <th>Education</th>\n",
       "      <th>Income</th>\n",
       "      <th>Occupation</th>\n",
       "      <th>Settlement size</th>\n",
       "    </tr>\n",
       "  </thead>\n",
       "  <tbody>\n",
       "    <tr>\n",
       "      <th>0</th>\n",
       "      <td>100000001</td>\n",
       "      <td>0</td>\n",
       "      <td>0</td>\n",
       "      <td>67</td>\n",
       "      <td>2</td>\n",
       "      <td>124670</td>\n",
       "      <td>1</td>\n",
       "      <td>2</td>\n",
       "    </tr>\n",
       "    <tr>\n",
       "      <th>1</th>\n",
       "      <td>100000002</td>\n",
       "      <td>1</td>\n",
       "      <td>1</td>\n",
       "      <td>22</td>\n",
       "      <td>1</td>\n",
       "      <td>150773</td>\n",
       "      <td>1</td>\n",
       "      <td>2</td>\n",
       "    </tr>\n",
       "    <tr>\n",
       "      <th>2</th>\n",
       "      <td>100000003</td>\n",
       "      <td>0</td>\n",
       "      <td>0</td>\n",
       "      <td>49</td>\n",
       "      <td>1</td>\n",
       "      <td>89210</td>\n",
       "      <td>0</td>\n",
       "      <td>0</td>\n",
       "    </tr>\n",
       "    <tr>\n",
       "      <th>3</th>\n",
       "      <td>100000004</td>\n",
       "      <td>0</td>\n",
       "      <td>0</td>\n",
       "      <td>45</td>\n",
       "      <td>1</td>\n",
       "      <td>171565</td>\n",
       "      <td>1</td>\n",
       "      <td>1</td>\n",
       "    </tr>\n",
       "    <tr>\n",
       "      <th>4</th>\n",
       "      <td>100000005</td>\n",
       "      <td>0</td>\n",
       "      <td>0</td>\n",
       "      <td>53</td>\n",
       "      <td>1</td>\n",
       "      <td>149031</td>\n",
       "      <td>1</td>\n",
       "      <td>1</td>\n",
       "    </tr>\n",
       "  </tbody>\n",
       "</table>\n",
       "</div>"
      ],
      "text/plain": [
       "          ID  Sex  Marital status  Age  Education  Income  Occupation  \\\n",
       "0  100000001    0               0   67          2  124670           1   \n",
       "1  100000002    1               1   22          1  150773           1   \n",
       "2  100000003    0               0   49          1   89210           0   \n",
       "3  100000004    0               0   45          1  171565           1   \n",
       "4  100000005    0               0   53          1  149031           1   \n",
       "\n",
       "   Settlement size  \n",
       "0                2  \n",
       "1                2  \n",
       "2                0  \n",
       "3                1  \n",
       "4                1  "
      ]
     },
     "execution_count": 2,
     "metadata": {},
     "output_type": "execute_result"
    }
   ],
   "source": [
    "# Load dataset\n",
    "data = pd.read_csv('segmentation data.csv')\n",
    "data.head()"
   ]
  },
  {
   "cell_type": "code",
   "execution_count": 3,
   "id": "a1ab115a",
   "metadata": {},
   "outputs": [
    {
     "data": {
      "text/html": [
       "<style type=\"text/css\">\n",
       "#T_afc3a_row4_col1, #T_afc3a_row8_col1 {\n",
       "  background-color: lightgreen;\n",
       "}\n",
       "</style>\n",
       "<table id=\"T_afc3a\">\n",
       "  <thead>\n",
       "    <tr>\n",
       "      <th class=\"blank level0\" >&nbsp;</th>\n",
       "      <th id=\"T_afc3a_level0_col0\" class=\"col_heading level0 col0\" >Description</th>\n",
       "      <th id=\"T_afc3a_level0_col1\" class=\"col_heading level0 col1\" >Value</th>\n",
       "    </tr>\n",
       "  </thead>\n",
       "  <tbody>\n",
       "    <tr>\n",
       "      <th id=\"T_afc3a_level0_row0\" class=\"row_heading level0 row0\" >0</th>\n",
       "      <td id=\"T_afc3a_row0_col0\" class=\"data row0 col0\" >Session id</td>\n",
       "      <td id=\"T_afc3a_row0_col1\" class=\"data row0 col1\" >123</td>\n",
       "    </tr>\n",
       "    <tr>\n",
       "      <th id=\"T_afc3a_level0_row1\" class=\"row_heading level0 row1\" >1</th>\n",
       "      <td id=\"T_afc3a_row1_col0\" class=\"data row1 col0\" >Original data shape</td>\n",
       "      <td id=\"T_afc3a_row1_col1\" class=\"data row1 col1\" >(2000, 8)</td>\n",
       "    </tr>\n",
       "    <tr>\n",
       "      <th id=\"T_afc3a_level0_row2\" class=\"row_heading level0 row2\" >2</th>\n",
       "      <td id=\"T_afc3a_row2_col0\" class=\"data row2 col0\" >Transformed data shape</td>\n",
       "      <td id=\"T_afc3a_row2_col1\" class=\"data row2 col1\" >(2000, 8)</td>\n",
       "    </tr>\n",
       "    <tr>\n",
       "      <th id=\"T_afc3a_level0_row3\" class=\"row_heading level0 row3\" >3</th>\n",
       "      <td id=\"T_afc3a_row3_col0\" class=\"data row3 col0\" >Numeric features</td>\n",
       "      <td id=\"T_afc3a_row3_col1\" class=\"data row3 col1\" >8</td>\n",
       "    </tr>\n",
       "    <tr>\n",
       "      <th id=\"T_afc3a_level0_row4\" class=\"row_heading level0 row4\" >4</th>\n",
       "      <td id=\"T_afc3a_row4_col0\" class=\"data row4 col0\" >Preprocess</td>\n",
       "      <td id=\"T_afc3a_row4_col1\" class=\"data row4 col1\" >True</td>\n",
       "    </tr>\n",
       "    <tr>\n",
       "      <th id=\"T_afc3a_level0_row5\" class=\"row_heading level0 row5\" >5</th>\n",
       "      <td id=\"T_afc3a_row5_col0\" class=\"data row5 col0\" >Imputation type</td>\n",
       "      <td id=\"T_afc3a_row5_col1\" class=\"data row5 col1\" >simple</td>\n",
       "    </tr>\n",
       "    <tr>\n",
       "      <th id=\"T_afc3a_level0_row6\" class=\"row_heading level0 row6\" >6</th>\n",
       "      <td id=\"T_afc3a_row6_col0\" class=\"data row6 col0\" >Numeric imputation</td>\n",
       "      <td id=\"T_afc3a_row6_col1\" class=\"data row6 col1\" >mean</td>\n",
       "    </tr>\n",
       "    <tr>\n",
       "      <th id=\"T_afc3a_level0_row7\" class=\"row_heading level0 row7\" >7</th>\n",
       "      <td id=\"T_afc3a_row7_col0\" class=\"data row7 col0\" >Categorical imputation</td>\n",
       "      <td id=\"T_afc3a_row7_col1\" class=\"data row7 col1\" >mode</td>\n",
       "    </tr>\n",
       "    <tr>\n",
       "      <th id=\"T_afc3a_level0_row8\" class=\"row_heading level0 row8\" >8</th>\n",
       "      <td id=\"T_afc3a_row8_col0\" class=\"data row8 col0\" >Normalize</td>\n",
       "      <td id=\"T_afc3a_row8_col1\" class=\"data row8 col1\" >True</td>\n",
       "    </tr>\n",
       "    <tr>\n",
       "      <th id=\"T_afc3a_level0_row9\" class=\"row_heading level0 row9\" >9</th>\n",
       "      <td id=\"T_afc3a_row9_col0\" class=\"data row9 col0\" >Normalize method</td>\n",
       "      <td id=\"T_afc3a_row9_col1\" class=\"data row9 col1\" >zscore</td>\n",
       "    </tr>\n",
       "    <tr>\n",
       "      <th id=\"T_afc3a_level0_row10\" class=\"row_heading level0 row10\" >10</th>\n",
       "      <td id=\"T_afc3a_row10_col0\" class=\"data row10 col0\" >CPU Jobs</td>\n",
       "      <td id=\"T_afc3a_row10_col1\" class=\"data row10 col1\" >-1</td>\n",
       "    </tr>\n",
       "    <tr>\n",
       "      <th id=\"T_afc3a_level0_row11\" class=\"row_heading level0 row11\" >11</th>\n",
       "      <td id=\"T_afc3a_row11_col0\" class=\"data row11 col0\" >Use GPU</td>\n",
       "      <td id=\"T_afc3a_row11_col1\" class=\"data row11 col1\" >False</td>\n",
       "    </tr>\n",
       "    <tr>\n",
       "      <th id=\"T_afc3a_level0_row12\" class=\"row_heading level0 row12\" >12</th>\n",
       "      <td id=\"T_afc3a_row12_col0\" class=\"data row12 col0\" >Log Experiment</td>\n",
       "      <td id=\"T_afc3a_row12_col1\" class=\"data row12 col1\" >False</td>\n",
       "    </tr>\n",
       "    <tr>\n",
       "      <th id=\"T_afc3a_level0_row13\" class=\"row_heading level0 row13\" >13</th>\n",
       "      <td id=\"T_afc3a_row13_col0\" class=\"data row13 col0\" >Experiment Name</td>\n",
       "      <td id=\"T_afc3a_row13_col1\" class=\"data row13 col1\" >cluster-default-name</td>\n",
       "    </tr>\n",
       "    <tr>\n",
       "      <th id=\"T_afc3a_level0_row14\" class=\"row_heading level0 row14\" >14</th>\n",
       "      <td id=\"T_afc3a_row14_col0\" class=\"data row14 col0\" >USI</td>\n",
       "      <td id=\"T_afc3a_row14_col1\" class=\"data row14 col1\" >e299</td>\n",
       "    </tr>\n",
       "  </tbody>\n",
       "</table>\n"
      ],
      "text/plain": [
       "<pandas.io.formats.style.Styler at 0x7f2ebf304850>"
      ]
     },
     "metadata": {},
     "output_type": "display_data"
    },
    {
     "data": {
      "text/plain": [
       "<pycaret.clustering.oop.ClusteringExperiment at 0x7f2eed9d7110>"
      ]
     },
     "execution_count": 3,
     "metadata": {},
     "output_type": "execute_result"
    }
   ],
   "source": [
    "# PyCaret clustering setup\n",
    "from pycaret.clustering import ClusteringExperiment\n",
    "c = ClusteringExperiment()\n",
    "c.setup(data=data, session_id=123, normalize=True)"
   ]
  },
  {
   "cell_type": "code",
   "execution_count": 7,
   "id": "68907064",
   "metadata": {},
   "outputs": [
    {
     "data": {
      "text/html": [],
      "text/plain": [
       "<IPython.core.display.HTML object>"
      ]
     },
     "metadata": {},
     "output_type": "display_data"
    },
    {
     "data": {
      "text/html": [
       "<style type=\"text/css\">\n",
       "</style>\n",
       "<table id=\"T_b2176\">\n",
       "  <thead>\n",
       "    <tr>\n",
       "      <th class=\"blank level0\" >&nbsp;</th>\n",
       "      <th id=\"T_b2176_level0_col0\" class=\"col_heading level0 col0\" >Silhouette</th>\n",
       "      <th id=\"T_b2176_level0_col1\" class=\"col_heading level0 col1\" >Calinski-Harabasz</th>\n",
       "      <th id=\"T_b2176_level0_col2\" class=\"col_heading level0 col2\" >Davies-Bouldin</th>\n",
       "      <th id=\"T_b2176_level0_col3\" class=\"col_heading level0 col3\" >Homogeneity</th>\n",
       "      <th id=\"T_b2176_level0_col4\" class=\"col_heading level0 col4\" >Rand Index</th>\n",
       "      <th id=\"T_b2176_level0_col5\" class=\"col_heading level0 col5\" >Completeness</th>\n",
       "    </tr>\n",
       "  </thead>\n",
       "  <tbody>\n",
       "    <tr>\n",
       "      <th id=\"T_b2176_level0_row0\" class=\"row_heading level0 row0\" >0</th>\n",
       "      <td id=\"T_b2176_row0_col0\" class=\"data row0 col0\" >0.2246</td>\n",
       "      <td id=\"T_b2176_row0_col1\" class=\"data row0 col1\" >523.2093</td>\n",
       "      <td id=\"T_b2176_row0_col2\" class=\"data row0 col2\" >1.5095</td>\n",
       "      <td id=\"T_b2176_row0_col3\" class=\"data row0 col3\" >0</td>\n",
       "      <td id=\"T_b2176_row0_col4\" class=\"data row0 col4\" >0</td>\n",
       "      <td id=\"T_b2176_row0_col5\" class=\"data row0 col5\" >0</td>\n",
       "    </tr>\n",
       "  </tbody>\n",
       "</table>\n"
      ],
      "text/plain": [
       "<pandas.io.formats.style.Styler at 0x7f2ebc5ff350>"
      ]
     },
     "metadata": {},
     "output_type": "display_data"
    },
    {
     "data": {
      "text/html": [],
      "text/plain": [
       "<IPython.core.display.HTML object>"
      ]
     },
     "metadata": {},
     "output_type": "display_data"
    }
   ],
   "source": [
    "kmeans = c.create_model('kmeans')"
   ]
  },
  {
   "cell_type": "code",
   "execution_count": 10,
   "id": "a426e0a4",
   "metadata": {},
   "outputs": [
    {
     "data": {
      "text/html": [
       "<div>\n",
       "<style scoped>\n",
       "    .dataframe tbody tr th:only-of-type {\n",
       "        vertical-align: middle;\n",
       "    }\n",
       "\n",
       "    .dataframe tbody tr th {\n",
       "        vertical-align: top;\n",
       "    }\n",
       "\n",
       "    .dataframe thead th {\n",
       "        text-align: right;\n",
       "    }\n",
       "</style>\n",
       "<table border=\"1\" class=\"dataframe\">\n",
       "  <thead>\n",
       "    <tr style=\"text-align: right;\">\n",
       "      <th></th>\n",
       "      <th>Name</th>\n",
       "      <th>Reference</th>\n",
       "    </tr>\n",
       "    <tr>\n",
       "      <th>ID</th>\n",
       "      <th></th>\n",
       "      <th></th>\n",
       "    </tr>\n",
       "  </thead>\n",
       "  <tbody>\n",
       "    <tr>\n",
       "      <th>kmeans</th>\n",
       "      <td>K-Means Clustering</td>\n",
       "      <td>sklearn.cluster._kmeans.KMeans</td>\n",
       "    </tr>\n",
       "    <tr>\n",
       "      <th>ap</th>\n",
       "      <td>Affinity Propagation</td>\n",
       "      <td>sklearn.cluster._affinity_propagation.Affinity...</td>\n",
       "    </tr>\n",
       "    <tr>\n",
       "      <th>meanshift</th>\n",
       "      <td>Mean Shift Clustering</td>\n",
       "      <td>sklearn.cluster._mean_shift.MeanShift</td>\n",
       "    </tr>\n",
       "    <tr>\n",
       "      <th>sc</th>\n",
       "      <td>Spectral Clustering</td>\n",
       "      <td>sklearn.cluster._spectral.SpectralClustering</td>\n",
       "    </tr>\n",
       "    <tr>\n",
       "      <th>hclust</th>\n",
       "      <td>Agglomerative Clustering</td>\n",
       "      <td>sklearn.cluster._agglomerative.AgglomerativeCl...</td>\n",
       "    </tr>\n",
       "    <tr>\n",
       "      <th>dbscan</th>\n",
       "      <td>Density-Based Spatial Clustering</td>\n",
       "      <td>sklearn.cluster._dbscan.DBSCAN</td>\n",
       "    </tr>\n",
       "    <tr>\n",
       "      <th>optics</th>\n",
       "      <td>OPTICS Clustering</td>\n",
       "      <td>sklearn.cluster._optics.OPTICS</td>\n",
       "    </tr>\n",
       "    <tr>\n",
       "      <th>birch</th>\n",
       "      <td>Birch Clustering</td>\n",
       "      <td>sklearn.cluster._birch.Birch</td>\n",
       "    </tr>\n",
       "  </tbody>\n",
       "</table>\n",
       "</div>"
      ],
      "text/plain": [
       "                                       Name  \\\n",
       "ID                                            \n",
       "kmeans                   K-Means Clustering   \n",
       "ap                     Affinity Propagation   \n",
       "meanshift             Mean Shift Clustering   \n",
       "sc                      Spectral Clustering   \n",
       "hclust             Agglomerative Clustering   \n",
       "dbscan     Density-Based Spatial Clustering   \n",
       "optics                    OPTICS Clustering   \n",
       "birch                      Birch Clustering   \n",
       "\n",
       "                                                   Reference  \n",
       "ID                                                            \n",
       "kmeans                        sklearn.cluster._kmeans.KMeans  \n",
       "ap         sklearn.cluster._affinity_propagation.Affinity...  \n",
       "meanshift              sklearn.cluster._mean_shift.MeanShift  \n",
       "sc              sklearn.cluster._spectral.SpectralClustering  \n",
       "hclust     sklearn.cluster._agglomerative.AgglomerativeCl...  \n",
       "dbscan                        sklearn.cluster._dbscan.DBSCAN  \n",
       "optics                        sklearn.cluster._optics.OPTICS  \n",
       "birch                           sklearn.cluster._birch.Birch  "
      ]
     },
     "execution_count": 10,
     "metadata": {},
     "output_type": "execute_result"
    }
   ],
   "source": [
    "c.models()"
   ]
  },
  {
   "cell_type": "code",
   "execution_count": 15,
   "id": "26d06688",
   "metadata": {},
   "outputs": [
    {
     "data": {
      "text/html": [],
      "text/plain": [
       "<IPython.core.display.HTML object>"
      ]
     },
     "metadata": {},
     "output_type": "display_data"
    },
    {
     "data": {
      "application/vnd.plotly.v1+json": {
       "config": {
        "plotlyServerURL": "https://plot.ly"
       },
       "data": [
        {
         "customdata": {
          "bdata": "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",
          "dtype": "i4",
          "shape": "729, 1"
         },
         "hovertemplate": "Cluster=Cluster 0<br>PCA1=%{x}<br>PCA2=%{y}<br>Feature=%{customdata[0]}<extra></extra>",
         "legendgroup": "Cluster 0",
         "marker": {
          "color": "#636efa",
          "opacity": 0.5,
          "symbol": "circle"
         },
         "mode": "markers",
         "name": "Cluster 0",
         "showlegend": true,
         "textposition": "top center",
         "type": "scattergl",
         "x": {
          "bdata": "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",
          "dtype": "f8"
         },
         "xaxis": "x",
         "y": {
          "bdata": "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",
          "dtype": "f8"
         },
         "yaxis": "y"
        },
        {
         "customdata": {
          "bdata": "YeT1BSfk9QUg5PUFx+X1BWbl9QWM5PUFv+T1Bbnl9QXf5fUFrOX1BbXk9QW+5PUFpuX1BWvk9QWd5fUFk+T1Bb3k9QWk5fUFleT1BWDk9QWh5fUFleX1Befk9QWg5fUFJOT1BZzl9QVw5PUFquX1BeDl9QVN5fUFi+T1Bd/k9QXM5PUF3uT1BUrk9QU45PUFVuT1BVXk9QXg5PUFVOT1BTXk9QVS5PUF2eT1BdPk9QVM5PUFTuT1BaPk9QU35PUF5uX1BVrk9QXK5PUFXuT1BcTk9QXF5PUF6uX1BaLk9QXH5PUFAeb1BTrk9QWw5PUFDeb1BQ/m9QV65PUFruT1BeHk9QV95PUFSeT1BSzk9QW35PUF0Oj1BWTi9QX44fUFAOL1BQHi9QUJ4vUFCuL1BQvi9QUX6PUFFuj1BRPi9QUU6PUFFuL1BRvi9QUO6PUFDej1BQro9QXr4fUFI+L1Berh9QXo4fUFR+j1BcDh9QVE6PUFyeH1Bcrh9QXN4fUFPuj1Bc/h9QXR4fUF1+H1BTfo9QXb4fUF3eH1BTXo9QUy6PUF6eH1Bb3h9QUJ6PUFAej1BVTi9QVZ4vUFXeL1Befn9QXm5/UF5ef1BWfi9QXj5/UF4ef1BW3i9QVu4vUF3+f1BXni9QXW5/UFgeL1Be/n9QUq4vUF8uf1BUbi9QUv4vUFMOL1BQDo9QX/5/UFNOL1BTbi9QU34vUFOOL1BTri9QU74vUFPeL1BULi9QX55/UFROL1Bfjn9QX05/UFzef1BUno9QW34fUFL+H1BTHh9QUz4fUFruj1BTbh9QWt6PUFOOH1Babo9QWi6PUFSOH1BaDo9QWb6PUFT+H1BZjo9QWX6PUFsuj1BVXh9QUr4fUFJOH1Bc7o9QUD4fUFBuH1Bcvo9QXI6PUFDuH1BRHh9QXE6PUFF+H1BcHo9QUa4fUFG+H1Bb3o9QW66PUFIuH1Bbjo9QVK6PUFkuj1BY7o9QVl6PUFl+H1BWLo9QWe4fUFoOH1BVro9QVZ6PUFWOj1BVfo9QWr4fUFVej1Ba7h9QVU6PUFU+j1BU/o9QVn6PUFkej1BWjo9QVr6PUFjOj1BWXh9QVm4fUFhej1BYTo9QV76PUFeuj1BXvh9QV46PUFf+H1BXPo9QWF4fUFcOj1BW/o9QWN4fUFauj1Bcnn9QVs5fUFxuf1BV7n9QVf5/UFV+P1BVbj9QVl5/UFZuf1BU3j9QVM4/UFS+P1BWfn9QVI4/UFRuP1Bcfn9QVo5/UFXOf1Bffj9QVq5/UFP+P1BTzj9QX74/UFOeP1BWvn9QU34/UF/uP1BW3n9QUy4/UFMOP1Bbbj9QX/4/UFcOf1BUTj9QVi4/UFWuf1BVjn9QW54/UFvuP1Bcbj9QXK4/UFreP1BaPj9QWf4/UFnuP1BZ3j9QXc4/UFkeP1BY/j9QWM4/UFiuP1BULn9QVD5/UFR+f1Be3j9QVW5/UF6uP1Bebj9QVq4/UFbOP1BSzj9QXi4/UFT+f1BUzn9QV84/UFSef1BYDj9QWC4/UFU+f1BQ/k9QUv4/UFdOf1Bd/i9QXd4vUFKOP1Bdni9QXX4vUF1uL1BZzn9QWg5/UFouf1BRPk9QXK4vUFp+f1Bann9QXA4vUF4uL1Bbzi9QUZ5PUFteL1BbTi9QWy4vUFq+L1Bafi9QWh4vUFnuL1Bb7n9QXA5/UFwuf1BZbi9QWV4vUFlOL1Ba/n9QWX5/UF2+L1BYDn9QV15/UFduf1BSHj9QUg4/UFH+P1BXnn9QV95/UFFeP1BRPj9QUS4/UFEOP1BQXj9QUD4/UFuOP1BRLk9QWK5/UF6eL1BZDn9QXu4vUF7+L1Bfri9QX44vUF8uL1BfPi9QUC4/UFjef1BfTi9QU=",
          "dtype": "i4",
          "shape": "353, 1"
         },
         "hovertemplate": "Cluster=Cluster 1<br>PCA1=%{x}<br>PCA2=%{y}<br>Feature=%{customdata[0]}<extra></extra>",
         "legendgroup": "Cluster 1",
         "marker": {
          "color": "#EF553B",
          "opacity": 0.5,
          "symbol": "circle"
         },
         "mode": "markers",
         "name": "Cluster 1",
         "showlegend": true,
         "textposition": "top center",
         "type": "scattergl",
         "x": {
          "bdata": "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",
          "dtype": "f8"
         },
         "xaxis": "x",
         "y": {
          "bdata": "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",
          "dtype": "f8"
         },
         "yaxis": "y"
        },
        {
         "customdata": {
          "bdata": "/uX1Bf3l9QXx5fUFg+X1Bdjl9QV45fUFouX1Bdbl9QUD5/UFfOX1BZbl9QX95vUFd+X1BZHl9QXA5vUF2Ob1BYbm9QXm5vUFleb1BYPm9QWX5vUFmeb1BXbm9QVy5vUFcOb1BbHm9QW05vUFc+X1Bbzm9QVQ5vUFBub1Bb7m9QXG5vUFyeb1BTTm9QUz5vUFzOb1BSXm9QU55/UFNuf1BRnm9QUp5/UFJef1BRbm9QUj5/UFEub1BUrm9QXn5vUFAeH1Be7k9QUM5PUF9uT1BQ7k9QXW4fUFEeT1BUfl9QV84vUFRuX1Bdzh9QV74vUFReX1BWzk9QUX5PUFROX1BUPl9QVC5fUFQeX1BUDl9QU/5fUFPuX1BT3l9QU85fUFO+X1BTrl9QU55fUFOOX1BTfl9QX15PUFNuX1BUjl9QUH5PUF6eT1Berk9QXr5PUFsOH1BbHh9QXs5PUF7+P1BbTh9QVM5fUFj+L1BY7i9QX14/UFjeL1Be3k9QW74fUFvOH1Bfnj9QUa5PUF7+T1BfDk9QVL5fUFSuX1BQLk9QXx5PUFSeX1BfLk9QXz5PUF9OT1BXfi9QU15fUFM+X1BRPl9QUS5fUFEeX1BRDl9QUP5fUFDuX1BQ3l9QUM5fUFC+X1BQrl9QUJ5fUFCOX1BQfl9QUG5fUFBeX1BQTl9QUD5fUF9+T1BQLl9QUB5fUFAOX1Bf/k9QX+5PUF/eT1Bfzk9QX75PUF+uT1BRTl9QU05fUFFeX1BRfl9QUy5fUFMeX1BTDl9QUv5fUFLuX1BS3l9QUs5fUFK+X1BSrl9QUp5fUFKOX1BSfl9QUm5fUFJeX1BSTl9QUj5fUFIuX1BSHl9QUg5fUFH+X1BR7l9QUd5fUFHOX1BRvl9QUa5fUFGeX1BRjl9QUW5fUF+eT1BXbi9QX45PUFUeT1BUrh9QVZ4/UFTOH1BRzi9QXs4vUFT+T1BVHh9QWd5PUFVOH1Beji9QUf5PUFSOT1BaHk9QXj4vUFV+X1BUfk9QV15PUFQuT1BXTk9QVg4fUF9+L1BWHh9QWW5PUFIeL1BWDj9QUZ4/UFS+L1BV/j9QUu4vUFHuH1BVDi9QUt4fUFceP1BR7j9QVZ5PUFN+H1BSfi9QVi5fUFhuT1BXbj9QUc4fUFJeL1BT/h9QU+4vUFIuL1BXbk9QVo5fUF0uL1BRPh9QUw5PUFiuH1Ba/i9QXQ5PUF0eT1Bczj9QVJ4/UFU+X1BZPh9QUx5PUFlOH1BSvj9QXu4fUFcuL1BdTj9QXX4/UF2eP1BSjk9QXc5PUFpOH1BXLk9QVk4/UFM+T1Bb/j9QUN4vUFCOL1BbHk9QVQ4/UFp+P1Banj9QUG4vUFT+P1Bazj9QUE4vUFt+L1BU7j9QVp4vUFCeH1BcLi9QV64fUFfOH1BcHi9QXC5PUF/OH1Bcjk9QW85PUFZ+T1BQ==",
          "dtype": "i4",
          "shape": "271, 1"
         },
         "hovertemplate": "Cluster=Cluster 2<br>PCA1=%{x}<br>PCA2=%{y}<br>Feature=%{customdata[0]}<extra></extra>",
         "legendgroup": "Cluster 2",
         "marker": {
          "color": "#00cc96",
          "opacity": 0.5,
          "symbol": "circle"
         },
         "mode": "markers",
         "name": "Cluster 2",
         "showlegend": true,
         "textposition": "top center",
         "type": "scattergl",
         "x": {
          "bdata": "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",
          "dtype": "f8"
         },
         "xaxis": "x",
         "y": {
          "bdata": "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",
          "dtype": "f8"
         },
         "yaxis": "y"
        },
        {
         "customdata": {
          "bdata": "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",
          "dtype": "i4",
          "shape": "647, 1"
         },
         "hovertemplate": "Cluster=Cluster 3<br>PCA1=%{x}<br>PCA2=%{y}<br>Feature=%{customdata[0]}<extra></extra>",
         "legendgroup": "Cluster 3",
         "marker": {
          "color": "#ab63fa",
          "opacity": 0.5,
          "symbol": "circle"
         },
         "mode": "markers",
         "name": "Cluster 3",
         "showlegend": true,
         "textposition": "top center",
         "type": "scattergl",
         "x": {
          "bdata": "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",
          "dtype": "f8"
         },
         "xaxis": "x",
         "y": {
          "bdata": "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",
          "dtype": "f8"
         },
         "yaxis": "y"
        }
       ],
       "layout": {
        "height": 600,
        "legend": {
         "title": {
          "text": "Cluster"
         },
         "tracegroupgap": 0
        },
        "margin": {
         "t": 60
        },
        "plot_bgcolor": "rgb(240,240,240)",
        "template": {
         "data": {
          "bar": [
           {
            "error_x": {
             "color": "#2a3f5f"
            },
            "error_y": {
             "color": "#2a3f5f"
            },
            "marker": {
             "line": {
              "color": "#E5ECF6",
              "width": 0.5
             },
             "pattern": {
              "fillmode": "overlay",
              "size": 10,
              "solidity": 0.2
             }
            },
            "type": "bar"
           }
          ],
          "barpolar": [
           {
            "marker": {
             "line": {
              "color": "#E5ECF6",
              "width": 0.5
             },
             "pattern": {
              "fillmode": "overlay",
              "size": 10,
              "solidity": 0.2
             }
            },
            "type": "barpolar"
           }
          ],
          "carpet": [
           {
            "aaxis": {
             "endlinecolor": "#2a3f5f",
             "gridcolor": "white",
             "linecolor": "white",
             "minorgridcolor": "white",
             "startlinecolor": "#2a3f5f"
            },
            "baxis": {
             "endlinecolor": "#2a3f5f",
             "gridcolor": "white",
             "linecolor": "white",
             "minorgridcolor": "white",
             "startlinecolor": "#2a3f5f"
            },
            "type": "carpet"
           }
          ],
          "choropleth": [
           {
            "colorbar": {
             "outlinewidth": 0,
             "ticks": ""
            },
            "type": "choropleth"
           }
          ],
          "contour": [
           {
            "colorbar": {
             "outlinewidth": 0,
             "ticks": ""
            },
            "colorscale": [
             [
              0,
              "#0d0887"
             ],
             [
              0.1111111111111111,
              "#46039f"
             ],
             [
              0.2222222222222222,
              "#7201a8"
             ],
             [
              0.3333333333333333,
              "#9c179e"
             ],
             [
              0.4444444444444444,
              "#bd3786"
             ],
             [
              0.5555555555555556,
              "#d8576b"
             ],
             [
              0.6666666666666666,
              "#ed7953"
             ],
             [
              0.7777777777777778,
              "#fb9f3a"
             ],
             [
              0.8888888888888888,
              "#fdca26"
             ],
             [
              1,
              "#f0f921"
             ]
            ],
            "type": "contour"
           }
          ],
          "contourcarpet": [
           {
            "colorbar": {
             "outlinewidth": 0,
             "ticks": ""
            },
            "type": "contourcarpet"
           }
          ],
          "heatmap": [
           {
            "colorbar": {
             "outlinewidth": 0,
             "ticks": ""
            },
            "colorscale": [
             [
              0,
              "#0d0887"
             ],
             [
              0.1111111111111111,
              "#46039f"
             ],
             [
              0.2222222222222222,
              "#7201a8"
             ],
             [
              0.3333333333333333,
              "#9c179e"
             ],
             [
              0.4444444444444444,
              "#bd3786"
             ],
             [
              0.5555555555555556,
              "#d8576b"
             ],
             [
              0.6666666666666666,
              "#ed7953"
             ],
             [
              0.7777777777777778,
              "#fb9f3a"
             ],
             [
              0.8888888888888888,
              "#fdca26"
             ],
             [
              1,
              "#f0f921"
             ]
            ],
            "type": "heatmap"
           }
          ],
          "histogram": [
           {
            "marker": {
             "pattern": {
              "fillmode": "overlay",
              "size": 10,
              "solidity": 0.2
             }
            },
            "type": "histogram"
           }
          ],
          "histogram2d": [
           {
            "colorbar": {
             "outlinewidth": 0,
             "ticks": ""
            },
            "colorscale": [
             [
              0,
              "#0d0887"
             ],
             [
              0.1111111111111111,
              "#46039f"
             ],
             [
              0.2222222222222222,
              "#7201a8"
             ],
             [
              0.3333333333333333,
              "#9c179e"
             ],
             [
              0.4444444444444444,
              "#bd3786"
             ],
             [
              0.5555555555555556,
              "#d8576b"
             ],
             [
              0.6666666666666666,
              "#ed7953"
             ],
             [
              0.7777777777777778,
              "#fb9f3a"
             ],
             [
              0.8888888888888888,
              "#fdca26"
             ],
             [
              1,
              "#f0f921"
             ]
            ],
            "type": "histogram2d"
           }
          ],
          "histogram2dcontour": [
           {
            "colorbar": {
             "outlinewidth": 0,
             "ticks": ""
            },
            "colorscale": [
             [
              0,
              "#0d0887"
             ],
             [
              0.1111111111111111,
              "#46039f"
             ],
             [
              0.2222222222222222,
              "#7201a8"
             ],
             [
              0.3333333333333333,
              "#9c179e"
             ],
             [
              0.4444444444444444,
              "#bd3786"
             ],
             [
              0.5555555555555556,
              "#d8576b"
             ],
             [
              0.6666666666666666,
              "#ed7953"
             ],
             [
              0.7777777777777778,
              "#fb9f3a"
             ],
             [
              0.8888888888888888,
              "#fdca26"
             ],
             [
              1,
              "#f0f921"
             ]
            ],
            "type": "histogram2dcontour"
           }
          ],
          "mesh3d": [
           {
            "colorbar": {
             "outlinewidth": 0,
             "ticks": ""
            },
            "type": "mesh3d"
           }
          ],
          "parcoords": [
           {
            "line": {
             "colorbar": {
              "outlinewidth": 0,
              "ticks": ""
             }
            },
            "type": "parcoords"
           }
          ],
          "pie": [
           {
            "automargin": true,
            "type": "pie"
           }
          ],
          "scatter": [
           {
            "fillpattern": {
             "fillmode": "overlay",
             "size": 10,
             "solidity": 0.2
            },
            "type": "scatter"
           }
          ],
          "scatter3d": [
           {
            "line": {
             "colorbar": {
              "outlinewidth": 0,
              "ticks": ""
             }
            },
            "marker": {
             "colorbar": {
              "outlinewidth": 0,
              "ticks": ""
             }
            },
            "type": "scatter3d"
           }
          ],
          "scattercarpet": [
           {
            "marker": {
             "colorbar": {
              "outlinewidth": 0,
              "ticks": ""
             }
            },
            "type": "scattercarpet"
           }
          ],
          "scattergeo": [
           {
            "marker": {
             "colorbar": {
              "outlinewidth": 0,
              "ticks": ""
             }
            },
            "type": "scattergeo"
           }
          ],
          "scattergl": [
           {
            "marker": {
             "colorbar": {
              "outlinewidth": 0,
              "ticks": ""
             }
            },
            "type": "scattergl"
           }
          ],
          "scattermap": [
           {
            "marker": {
             "colorbar": {
              "outlinewidth": 0,
              "ticks": ""
             }
            },
            "type": "scattermap"
           }
          ],
          "scattermapbox": [
           {
            "marker": {
             "colorbar": {
              "outlinewidth": 0,
              "ticks": ""
             }
            },
            "type": "scattermapbox"
           }
          ],
          "scatterpolar": [
           {
            "marker": {
             "colorbar": {
              "outlinewidth": 0,
              "ticks": ""
             }
            },
            "type": "scatterpolar"
           }
          ],
          "scatterpolargl": [
           {
            "marker": {
             "colorbar": {
              "outlinewidth": 0,
              "ticks": ""
             }
            },
            "type": "scatterpolargl"
           }
          ],
          "scatterternary": [
           {
            "marker": {
             "colorbar": {
              "outlinewidth": 0,
              "ticks": ""
             }
            },
            "type": "scatterternary"
           }
          ],
          "surface": [
           {
            "colorbar": {
             "outlinewidth": 0,
             "ticks": ""
            },
            "colorscale": [
             [
              0,
              "#0d0887"
             ],
             [
              0.1111111111111111,
              "#46039f"
             ],
             [
              0.2222222222222222,
              "#7201a8"
             ],
             [
              0.3333333333333333,
              "#9c179e"
             ],
             [
              0.4444444444444444,
              "#bd3786"
             ],
             [
              0.5555555555555556,
              "#d8576b"
             ],
             [
              0.6666666666666666,
              "#ed7953"
             ],
             [
              0.7777777777777778,
              "#fb9f3a"
             ],
             [
              0.8888888888888888,
              "#fdca26"
             ],
             [
              1,
              "#f0f921"
             ]
            ],
            "type": "surface"
           }
          ],
          "table": [
           {
            "cells": {
             "fill": {
              "color": "#EBF0F8"
             },
             "line": {
              "color": "white"
             }
            },
            "header": {
             "fill": {
              "color": "#C8D4E3"
             },
             "line": {
              "color": "white"
             }
            },
            "type": "table"
           }
          ]
         },
         "layout": {
          "annotationdefaults": {
           "arrowcolor": "#2a3f5f",
           "arrowhead": 0,
           "arrowwidth": 1
          },
          "autotypenumbers": "strict",
          "coloraxis": {
           "colorbar": {
            "outlinewidth": 0,
            "ticks": ""
           }
          },
          "colorscale": {
           "diverging": [
            [
             0,
             "#8e0152"
            ],
            [
             0.1,
             "#c51b7d"
            ],
            [
             0.2,
             "#de77ae"
            ],
            [
             0.3,
             "#f1b6da"
            ],
            [
             0.4,
             "#fde0ef"
            ],
            [
             0.5,
             "#f7f7f7"
            ],
            [
             0.6,
             "#e6f5d0"
            ],
            [
             0.7,
             "#b8e186"
            ],
            [
             0.8,
             "#7fbc41"
            ],
            [
             0.9,
             "#4d9221"
            ],
            [
             1,
             "#276419"
            ]
           ],
           "sequential": [
            [
             0,
             "#0d0887"
            ],
            [
             0.1111111111111111,
             "#46039f"
            ],
            [
             0.2222222222222222,
             "#7201a8"
            ],
            [
             0.3333333333333333,
             "#9c179e"
            ],
            [
             0.4444444444444444,
             "#bd3786"
            ],
            [
             0.5555555555555556,
             "#d8576b"
            ],
            [
             0.6666666666666666,
             "#ed7953"
            ],
            [
             0.7777777777777778,
             "#fb9f3a"
            ],
            [
             0.8888888888888888,
             "#fdca26"
            ],
            [
             1,
             "#f0f921"
            ]
           ],
           "sequentialminus": [
            [
             0,
             "#0d0887"
            ],
            [
             0.1111111111111111,
             "#46039f"
            ],
            [
             0.2222222222222222,
             "#7201a8"
            ],
            [
             0.3333333333333333,
             "#9c179e"
            ],
            [
             0.4444444444444444,
             "#bd3786"
            ],
            [
             0.5555555555555556,
             "#d8576b"
            ],
            [
             0.6666666666666666,
             "#ed7953"
            ],
            [
             0.7777777777777778,
             "#fb9f3a"
            ],
            [
             0.8888888888888888,
             "#fdca26"
            ],
            [
             1,
             "#f0f921"
            ]
           ]
          },
          "colorway": [
           "#636efa",
           "#EF553B",
           "#00cc96",
           "#ab63fa",
           "#FFA15A",
           "#19d3f3",
           "#FF6692",
           "#B6E880",
           "#FF97FF",
           "#FECB52"
          ],
          "font": {
           "color": "#2a3f5f"
          },
          "geo": {
           "bgcolor": "white",
           "lakecolor": "white",
           "landcolor": "#E5ECF6",
           "showlakes": true,
           "showland": true,
           "subunitcolor": "white"
          },
          "hoverlabel": {
           "align": "left"
          },
          "hovermode": "closest",
          "mapbox": {
           "style": "light"
          },
          "paper_bgcolor": "white",
          "plot_bgcolor": "#E5ECF6",
          "polar": {
           "angularaxis": {
            "gridcolor": "white",
            "linecolor": "white",
            "ticks": ""
           },
           "bgcolor": "#E5ECF6",
           "radialaxis": {
            "gridcolor": "white",
            "linecolor": "white",
            "ticks": ""
           }
          },
          "scene": {
           "xaxis": {
            "backgroundcolor": "#E5ECF6",
            "gridcolor": "white",
            "gridwidth": 2,
            "linecolor": "white",
            "showbackground": true,
            "ticks": "",
            "zerolinecolor": "white"
           },
           "yaxis": {
            "backgroundcolor": "#E5ECF6",
            "gridcolor": "white",
            "gridwidth": 2,
            "linecolor": "white",
            "showbackground": true,
            "ticks": "",
            "zerolinecolor": "white"
           },
           "zaxis": {
            "backgroundcolor": "#E5ECF6",
            "gridcolor": "white",
            "gridwidth": 2,
            "linecolor": "white",
            "showbackground": true,
            "ticks": "",
            "zerolinecolor": "white"
           }
          },
          "shapedefaults": {
           "line": {
            "color": "#2a3f5f"
           }
          },
          "ternary": {
           "aaxis": {
            "gridcolor": "white",
            "linecolor": "white",
            "ticks": ""
           },
           "baxis": {
            "gridcolor": "white",
            "linecolor": "white",
            "ticks": ""
           },
           "bgcolor": "#E5ECF6",
           "caxis": {
            "gridcolor": "white",
            "linecolor": "white",
            "ticks": ""
           }
          },
          "title": {
           "x": 0.05
          },
          "xaxis": {
           "automargin": true,
           "gridcolor": "white",
           "linecolor": "white",
           "ticks": "",
           "title": {
            "standoff": 15
           },
           "zerolinecolor": "white",
           "zerolinewidth": 2
          },
          "yaxis": {
           "automargin": true,
           "gridcolor": "white",
           "linecolor": "white",
           "ticks": "",
           "title": {
            "standoff": 15
           },
           "zerolinecolor": "white",
           "zerolinewidth": 2
          }
         }
        },
        "title": {
         "text": "2D Cluster PCA Plot"
        },
        "xaxis": {
         "anchor": "y",
         "domain": [
          0,
          1
         ],
         "title": {
          "text": "PCA1"
         }
        },
        "yaxis": {
         "anchor": "x",
         "domain": [
          0,
          1
         ],
         "title": {
          "text": "PCA2"
         }
        }
       }
      }
     },
     "metadata": {},
     "output_type": "display_data"
    },
    {
     "data": {
      "text/html": [],
      "text/plain": [
       "<IPython.core.display.HTML object>"
      ]
     },
     "metadata": {},
     "output_type": "display_data"
    },
    {
     "data": {
      "image/png": "[encoded data removed]",
      "text/plain": [
       "<Figure size 800x550 with 1 Axes>"
      ]
     },
     "metadata": {},
     "output_type": "display_data"
    }
   ],
   "source": [
    "c.plot_model(kmeans, plot='cluster')\n",
    "c.plot_model(kmeans,\"elbow\")"
   ]
  },
  {
   "cell_type": "code",
   "execution_count": 19,
   "id": "b907b265",
   "metadata": {},
   "outputs": [
    {
     "name": "stdout",
     "output_type": "stream",
     "text": [
      "Transformation Pipeline and Model Successfully Saved\n"
     ]
    },
    {
     "data": {
      "text/html": [
       "<div>\n",
       "<style scoped>\n",
       "    .dataframe tbody tr th:only-of-type {\n",
       "        vertical-align: middle;\n",
       "    }\n",
       "\n",
       "    .dataframe tbody tr th {\n",
       "        vertical-align: top;\n",
       "    }\n",
       "\n",
       "    .dataframe thead th {\n",
       "        text-align: right;\n",
       "    }\n",
       "</style>\n",
       "<table border=\"1\" class=\"dataframe\">\n",
       "  <thead>\n",
       "    <tr style=\"text-align: right;\">\n",
       "      <th></th>\n",
       "      <th>ID</th>\n",
       "      <th>Sex</th>\n",
       "      <th>Marital status</th>\n",
       "      <th>Age</th>\n",
       "      <th>Education</th>\n",
       "      <th>Income</th>\n",
       "      <th>Occupation</th>\n",
       "      <th>Settlement size</th>\n",
       "      <th>Cluster</th>\n",
       "    </tr>\n",
       "  </thead>\n",
       "  <tbody>\n",
       "    <tr>\n",
       "      <th>0</th>\n",
       "      <td>-1.731185</td>\n",
       "      <td>-0.917399</td>\n",
       "      <td>-0.993024</td>\n",
       "      <td>2.653614</td>\n",
       "      <td>1.604323</td>\n",
       "      <td>0.097524</td>\n",
       "      <td>0.296823</td>\n",
       "      <td>1.552326</td>\n",
       "      <td>Cluster 2</td>\n",
       "    </tr>\n",
       "    <tr>\n",
       "      <th>1</th>\n",
       "      <td>-1.729453</td>\n",
       "      <td>1.090038</td>\n",
       "      <td>1.007025</td>\n",
       "      <td>-1.187132</td>\n",
       "      <td>-0.063372</td>\n",
       "      <td>0.782654</td>\n",
       "      <td>0.296823</td>\n",
       "      <td>1.552326</td>\n",
       "      <td>Cluster 3</td>\n",
       "    </tr>\n",
       "    <tr>\n",
       "      <th>2</th>\n",
       "      <td>-1.727721</td>\n",
       "      <td>-0.917399</td>\n",
       "      <td>-0.993024</td>\n",
       "      <td>1.117316</td>\n",
       "      <td>-0.063372</td>\n",
       "      <td>-0.833202</td>\n",
       "      <td>-1.269525</td>\n",
       "      <td>-0.909730</td>\n",
       "      <td>Cluster 1</td>\n",
       "    </tr>\n",
       "    <tr>\n",
       "      <th>3</th>\n",
       "      <td>-1.725989</td>\n",
       "      <td>-0.917399</td>\n",
       "      <td>-0.993024</td>\n",
       "      <td>0.775916</td>\n",
       "      <td>-0.063372</td>\n",
       "      <td>1.328386</td>\n",
       "      <td>0.296823</td>\n",
       "      <td>0.321298</td>\n",
       "      <td>Cluster 3</td>\n",
       "    </tr>\n",
       "    <tr>\n",
       "      <th>4</th>\n",
       "      <td>-1.724257</td>\n",
       "      <td>-0.917399</td>\n",
       "      <td>-0.993024</td>\n",
       "      <td>1.458716</td>\n",
       "      <td>-0.063372</td>\n",
       "      <td>0.736932</td>\n",
       "      <td>0.296823</td>\n",
       "      <td>0.321298</td>\n",
       "      <td>Cluster 3</td>\n",
       "    </tr>\n",
       "  </tbody>\n",
       "</table>\n",
       "</div>"
      ],
      "text/plain": [
       "         ID       Sex  Marital status       Age  Education    Income  \\\n",
       "0 -1.731185 -0.917399       -0.993024  2.653614   1.604323  0.097524   \n",
       "1 -1.729453  1.090038        1.007025 -1.187132  -0.063372  0.782654   \n",
       "2 -1.727721 -0.917399       -0.993024  1.117316  -0.063372 -0.833202   \n",
       "3 -1.725989 -0.917399       -0.993024  0.775916  -0.063372  1.328386   \n",
       "4 -1.724257 -0.917399       -0.993024  1.458716  -0.063372  0.736932   \n",
       "\n",
       "   Occupation  Settlement size    Cluster  \n",
       "0    0.296823         1.552326  Cluster 2  \n",
       "1    0.296823         1.552326  Cluster 3  \n",
       "2   -1.269525        -0.909730  Cluster 1  \n",
       "3    0.296823         0.321298  Cluster 3  \n",
       "4    0.296823         0.321298  Cluster 3  "
      ]
     },
     "execution_count": 19,
     "metadata": {},
     "output_type": "execute_result"
    }
   ],
   "source": [
    "# Save the trained pipeline, assign cluster labels, and predict on data\n",
    "c.save_model(kmeans, 'kmeans_segmentation_model')\n",
    "# Assign cluster labels to the training data\n",
    "assigned = c.assign_model(kmeans)\n",
    "assigned.head()\n",
    "# Predict cluster labels for new/unseen data (example uses same dataset)\n",
    "predictions = c.predict_model(kmeans, data=data)\n",
    "predictions.head()"
   ]
  }
 ],
 "metadata": {
  "kernelspec": {
   "display_name": ".venv",
   "language": "python",
   "name": "python3"
  },
  "language_info": {
   "codemirror_mode": {
    "name": "ipython",
    "version": 3
   },
   "file_extension": ".py",
   "mimetype": "text/x-python",
   "name": "python",
   "nbconvert_exporter": "python",
   "pygments_lexer": "ipython3",
   "version": "3.11.14"
  }
 },
 "nbformat": 4,
 "nbformat_minor": 5
}
